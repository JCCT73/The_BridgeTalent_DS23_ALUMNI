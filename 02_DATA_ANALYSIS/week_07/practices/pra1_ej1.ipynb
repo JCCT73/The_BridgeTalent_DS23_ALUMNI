{
 "cells": [
  {
   "cell_type": "code",
   "execution_count": 1,
   "metadata": {},
   "outputs": [],
   "source": [
    "import sqlite3\n",
    "import pandas as pd"
   ]
  },
  {
   "cell_type": "code",
   "execution_count": 2,
   "metadata": {},
   "outputs": [],
   "source": [
    "conn = sqlite3.connect(\"PRA1.db\")\n",
    "cursor = conn.cursor()\n"
   ]
  },
  {
   "cell_type": "code",
   "execution_count": 3,
   "metadata": {},
   "outputs": [
    {
     "data": {
      "text/plain": [
       "<sqlite3.Cursor at 0x1e6b072cd50>"
      ]
     },
     "execution_count": 3,
     "metadata": {},
     "output_type": "execute_result"
    }
   ],
   "source": [
    "# Creamos las tablas en SQL\n",
    "cursor.execute(\n",
    "    \"\"\"\n",
    "        CREATE TABLE IF NOT EXISTS tb_company \n",
    "        (\n",
    "            co_code CHAR(3) NOT NULL\n",
    "            ,co_name VARCHAR(50) NOT NULL\n",
    "            ,co_address VARCHAR(150) NOT NULL\n",
    "            ,co_city VARCHAR(50) NOT NULL\n",
    "            ,co_country VARCHAR(30) NOT NULL DEFAULT 'España'\n",
    "            ,last_updated_by VARCHAR(20) NOT NULL DEFAULT 'SYSTEM'\n",
    "            ,last_update_date date NOT NULL\n",
    "            ,CONSTRAINT pk_company PRIMARY KEY (co_code)\n",
    "        );\n",
    "    \"\"\"\n",
    ")"
   ]
  },
  {
   "cell_type": "code",
   "execution_count": 4,
   "metadata": {},
   "outputs": [
    {
     "data": {
      "text/plain": [
       "<sqlite3.Cursor at 0x1e6b072cd50>"
      ]
     },
     "execution_count": 4,
     "metadata": {},
     "output_type": "execute_result"
    }
   ],
   "source": [
    "cursor.execute(\n",
    "    \"\"\"\n",
    "        CREATE TABLE IF NOT EXISTS tb_customer\n",
    "        (\n",
    "            cust_no CHAR(5) NOT NULL\n",
    "            ,cust_name VARCHAR(50) NOT NULL\n",
    "            ,cust_cif VARCHAR(15) NOT NULL\n",
    "            ,last_updated_by VARCHAR(20) NOT NULL DEFAULT 'SYSTEM'\n",
    "            ,last_update_date date NOT NULL\n",
    "            ,CONSTRAINT pk_company PRIMARY KEY (cust_no)\n",
    "        );\n",
    "    \"\"\"\n",
    ")"
   ]
  },
  {
   "cell_type": "code",
   "execution_count": 5,
   "metadata": {},
   "outputs": [
    {
     "data": {
      "text/plain": [
       "<sqlite3.Cursor at 0x1e6b072cd50>"
      ]
     },
     "execution_count": 5,
     "metadata": {},
     "output_type": "execute_result"
    }
   ],
   "source": [
    "cursor.execute(\n",
    "    \"\"\"\n",
    "        CREATE TABLE IF NOT EXISTS tb_site\n",
    "        (\n",
    "            cust_no CHAR(5) NOT NULL\n",
    "            ,site_id int4 NOT NULL\n",
    "            ,site_code CHAR(5) NOT NULL\n",
    "            ,site_name VARCHAR(50) NOT NULL\n",
    "            ,site_address VARCHAR(150) NOT NULL\n",
    "            ,site_city VARCHAR(50) NOT NULL\n",
    "            ,site_country VARCHAR(30) NOT NULL DEFAULT 'España'\n",
    "            ,site_phone NUMERIC NULL\n",
    "            ,co_code CHAR(3) NOT NULL\n",
    "            ,last_update_by VARCHAR(20) NOT NULL DEFAULT 'System'\n",
    "            ,last_update_date date NOT NULL\n",
    "            ,CONSTRAINT pk_site PRIMARY KEY (site_id)\n",
    "            ,CONSTRAINT fk_site_company FOREIGN KEY (co_code) REFERENCES tb_company (co_code)\n",
    "            ,CONSTRAINT fk_site_customer FOREIGN KEY (cust_no) REFERENCES tb_customer (cust_no)\n",
    "        );\n",
    "    \"\"\"\n",
    ")"
   ]
  },
  {
   "cell_type": "code",
   "execution_count": 6,
   "metadata": {},
   "outputs": [
    {
     "data": {
      "text/plain": [
       "<sqlite3.Cursor at 0x1e6b072cd50>"
      ]
     },
     "execution_count": 6,
     "metadata": {},
     "output_type": "execute_result"
    }
   ],
   "source": [
    "cursor.execute(\n",
    "    \"\"\"\n",
    "        CREATE TABLE IF NOT EXISTS tb_iva\n",
    "        (\n",
    "            co_code CHAR(3) NOT NULL\n",
    "            ,iva_id INT NOT NULL\n",
    "            ,iva_no VARCHAR(15) NOT NULL\n",
    "            ,iva_percent INT NOT NULL\n",
    "            ,active_flag CHAR(1) NOT NULL DEFAULT 'Y'\n",
    "            ,last_update_by VARCHAR(20) NOT NULL DEFAULT 'System'\n",
    "            ,last_update_date date NOT NULL\n",
    "            ,CONSTRAINT pk_iva PRIMARY KEY (iva_id)\n",
    "            ,CONSTRAINT fk_company FOREIGN KEY (co_code) REFERENCES tb_company (co_code)\n",
    "        );\n",
    "    \"\"\"\n",
    ")"
   ]
  },
  {
   "cell_type": "code",
   "execution_count": 7,
   "metadata": {},
   "outputs": [
    {
     "data": {
      "text/plain": [
       "<sqlite3.Cursor at 0x1e6b072cd50>"
      ]
     },
     "execution_count": 7,
     "metadata": {},
     "output_type": "execute_result"
    }
   ],
   "source": [
    "cursor.execute(\n",
    "    \"\"\"\n",
    "        CREATE TABLE IF NOT EXISTS tb_invoice\n",
    "        (\n",
    "            co_code CHAR(3) NOT NULL\n",
    "            ,invoice_id INT NOT NULL\n",
    "            ,invoice_no VARCHAR(15) NOT NULL\n",
    "            ,cust_no CHAR(5) NOT NULL\n",
    "            ,site_id INT NOT NULL\n",
    "            ,payed CHAR(1) NOT NULL DEFAULT 'N'\n",
    "            ,net_amount REAL NOT NULL\n",
    "            ,iva_amount REAL NOT NULL\n",
    "            ,tot_amount REAL NOT NULL\n",
    "            ,last_update_by VARCHAR (20) NOT NULL DEFAULT 'SYSTEM'\n",
    "            ,last_updated_date DATETIME NOT NULL\n",
    "            ,CONSTRAINT pk_invoice PRIMARY KEY (invoice_id)\n",
    "            ,CONSTRAINT fk_company FOREIGN KEY (co_code) REFERENCES tb_company (co_code)\n",
    "            ,CONSTRAINT fk_customer FOREIGN KEY (cust_no) REFERENCES tb_customer (cust_no)\n",
    "            ,CONSTRAINT fk_site FOREIGN KEY (site_id) REFERENCES tb_site (site_id)\n",
    "            \n",
    "        );\n",
    "    \"\"\"\n",
    ")"
   ]
  },
  {
   "cell_type": "code",
   "execution_count": 8,
   "metadata": {},
   "outputs": [
    {
     "data": {
      "text/plain": [
       "<sqlite3.Cursor at 0x1e6b072cd50>"
      ]
     },
     "execution_count": 8,
     "metadata": {},
     "output_type": "execute_result"
    }
   ],
   "source": [
    "cursor.execute(\n",
    "    \"\"\"\n",
    "        CREATE TABLE IF NOT EXISTS tb_lines\n",
    "        (\n",
    "            invoice_id INT NOT NULL\n",
    "            ,line_id INT NOT NULL\n",
    "            ,line_num INT NOT NULL\n",
    "            ,item CHAR(5) NULL\n",
    "            ,description VARCHAR(120) NOT NULL\n",
    "            ,net_amount REAL NOT NULL\n",
    "            ,iva_amount REAL NOT NULL\n",
    "            ,last_update_by VARCHAR (20) NOT NULL DEFAULT 'SYSTEM'\n",
    "            ,last_updated_date date NOT NULL\n",
    "            ,CONSTRAINT pk_line PRIMARY KEY (line_id)\n",
    "            ,CONSTRAINT fk_invoice FOREIGN KEY (invoice_id) REFERENCES tb_invoice (invoice_id)\n",
    "\n",
    "        );\n",
    "    \"\"\"\n",
    ")"
   ]
  },
  {
   "cell_type": "code",
   "execution_count": 9,
   "metadata": {},
   "outputs": [],
   "source": [
    "import sqlite3\n",
    "import numpy as np\n",
    "import pandas as pd"
   ]
  },
  {
   "cell_type": "code",
   "execution_count": 18,
   "metadata": {},
   "outputs": [
    {
     "ename": "IntegrityError",
     "evalue": "UNIQUE constraint failed: tb_company.co_code",
     "output_type": "error",
     "traceback": [
      "\u001b[1;31m---------------------------------------------------------------------------\u001b[0m",
      "\u001b[1;31mIntegrityError\u001b[0m                            Traceback (most recent call last)",
      "Cell \u001b[1;32mIn[18], line 13\u001b[0m\n\u001b[0;32m     11\u001b[0m \u001b[39mwith\u001b[39;00m \u001b[39mopen\u001b[39m(\u001b[39m'\u001b[39m\u001b[39m./BBDD_ERP_data.sql\u001b[39m\u001b[39m'\u001b[39m,\u001b[39m\"\u001b[39m\u001b[39mr\u001b[39m\u001b[39m\"\u001b[39m) \u001b[39mas\u001b[39;00m s:\n\u001b[0;32m     12\u001b[0m     script \u001b[39m=\u001b[39m s\u001b[39m.\u001b[39mread()\n\u001b[1;32m---> 13\u001b[0m     cursor\u001b[39m.\u001b[39;49mexecutescript(script)\n",
      "\u001b[1;31mIntegrityError\u001b[0m: UNIQUE constraint failed: tb_company.co_code"
     ]
    }
   ],
   "source": [
    "# realizamos la conexion\n",
    "\n",
    "conn = sqlite3.connect(\"PRA1.db\")\n",
    "\n",
    "# Creamos el comando o cursor\n",
    "\n",
    "cursor = conn.cursor()\n",
    "\n",
    "# Ejecutamos el script\n",
    "\n",
    "with open('./BBDD_ERP_data.sql',\"r\") as s:\n",
    "    script = s.read()\n",
    "    cursor.executescript(script)"
   ]
  }
 ],
 "metadata": {
  "kernelspec": {
   "display_name": "ramp_up_py395",
   "language": "python",
   "name": "python3"
  },
  "language_info": {
   "codemirror_mode": {
    "name": "ipython",
    "version": 3
   },
   "file_extension": ".py",
   "mimetype": "text/x-python",
   "name": "python",
   "nbconvert_exporter": "python",
   "pygments_lexer": "ipython3",
   "version": "3.9.5"
  },
  "orig_nbformat": 4
 },
 "nbformat": 4,
 "nbformat_minor": 2
}
